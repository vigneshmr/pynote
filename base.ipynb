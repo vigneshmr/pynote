{
 "cells": [
  {
   "cell_type": "code",
   "execution_count": 29,
   "metadata": {},
   "outputs": [
    {
     "data": {
      "application/vnd.jupyter.widget-view+json": {
       "model_id": "1e6e3b200a084e6b8def8ef2ae593531",
       "version_major": 2,
       "version_minor": 0
      },
      "text/plain": [
       "BoundedIntText(value=18, description=u'Age:', max=200)"
      ]
     },
     "metadata": {},
     "output_type": "display_data"
    },
    {
     "data": {
      "application/vnd.jupyter.widget-view+json": {
       "model_id": "01d9a562fb164c72845bece9012988a0",
       "version_major": 2,
       "version_minor": 0
      },
      "text/plain": [
       "Button(description=u'Check', style=ButtonStyle())"
      ]
     },
     "metadata": {},
     "output_type": "display_data"
    },
    {
     "data": {
      "application/vnd.jupyter.widget-view+json": {
       "model_id": "0689250379e64d12b46039cbe72a2e0d",
       "version_major": 2,
       "version_minor": 0
      },
      "text/plain": [
       "Label(value=u'')"
      ]
     },
     "metadata": {},
     "output_type": "display_data"
    }
   ],
   "source": [
    "# -*- coding: utf-8 -*-\n",
    "\n",
    "import ipywidgets as widgets\n",
    "txt_age = widgets.BoundedIntText(\n",
    "    value='18',\n",
    "    description='Age:',\n",
    "    step=1,\n",
    "    min=0,\n",
    "    max=200,\n",
    ")\n",
    "btn_check = widgets.Button(description='Check')\n",
    "label_status = widgets.Label()\n",
    "display(txt_age,btn_check,label_status)\n",
    "\n",
    "def event_check_age(_):\n",
    "    if not isinstance(txt_age.value, int):\n",
    "        label_status.value = 'Invalid input'\n",
    "        return\n",
    "\n",
    "    if txt_age.value >= 18:\n",
    "        label_status.value = 'Eligible to vote'\n",
    "    else:\n",
    "        label_status.value = 'Not eligible to vote'\n",
    "\n",
    "btn_check.on_click(event_check_age)"
   ]
  }
 ],
 "metadata": {
  "kernelspec": {
   "display_name": "Python 2",
   "language": "python",
   "name": "python2"
  },
  "language_info": {
   "codemirror_mode": {
    "name": "ipython",
    "version": 2
   },
   "file_extension": ".py",
   "mimetype": "text/x-python",
   "name": "python",
   "nbconvert_exporter": "python",
   "pygments_lexer": "ipython2",
   "version": "2.7.17"
  }
 },
 "nbformat": 4,
 "nbformat_minor": 2
}
